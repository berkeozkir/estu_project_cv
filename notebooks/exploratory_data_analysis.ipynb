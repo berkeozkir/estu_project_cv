{
 "cells": [
  {
   "cell_type": "code",
   "execution_count": 1,
   "id": "c26f901d-fb03-4b7f-b833-c91959410ebb",
   "metadata": {},
   "outputs": [],
   "source": [
    "# This is where we will look at the RAW DATA and analyse how we can augment this data and train a custom model with high mAP accuracy."
   ]
  },
  {
   "cell_type": "code",
   "execution_count": null,
   "id": "8e9ed6d2-c765-4dff-b6fe-15475cad034c",
   "metadata": {},
   "outputs": [],
   "source": []
  }
 ],
 "metadata": {
  "kernelspec": {
   "display_name": "Python 3 (ipykernel)",
   "language": "python",
   "name": "python3"
  },
  "language_info": {
   "codemirror_mode": {
    "name": "ipython",
    "version": 3
   },
   "file_extension": ".py",
   "mimetype": "text/x-python",
   "name": "python",
   "nbconvert_exporter": "python",
   "pygments_lexer": "ipython3",
   "version": "3.12.9"
  }
 },
 "nbformat": 4,
 "nbformat_minor": 5
}
